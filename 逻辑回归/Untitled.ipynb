{
 "cells": [
  {
   "cell_type": "code",
   "execution_count": 5,
   "id": "preliminary-exclusive",
   "metadata": {},
   "outputs": [],
   "source": [
    "import sys\n",
    "sys.path.append('/Users/user/miniconda3/lib/python3.8/site-packages')"
   ]
  },
  {
   "cell_type": "code",
   "execution_count": 269,
   "id": "fixed-military",
   "metadata": {},
   "outputs": [
    {
     "name": "stderr",
     "output_type": "stream",
     "text": [
      "/Users/user/miniconda3/lib/python3.8/site-packages/sklearn/utils/deprecation.py:143: FutureWarning: The sklearn.linear_model.logistic module is  deprecated in version 0.22 and will be removed in version 0.24. The corresponding classes / functions should instead be imported from sklearn.linear_model. Anything that cannot be imported from sklearn.linear_model is now part of the private API.\n",
      "  warnings.warn(message, FutureWarning)\n"
     ]
    }
   ],
   "source": [
    "import pandas as pd\n",
    "import math\n",
    "import numpy as np\n",
    "from sklearn.preprocessing import scale\n",
    "from tqdm import tqdm\n",
    "from sklearn.linear_model.logistic import LogisticRegression"
   ]
  },
  {
   "cell_type": "code",
   "execution_count": 212,
   "id": "expressed-serve",
   "metadata": {},
   "outputs": [
    {
     "data": {
      "text/plain": [
       "array([[6.00e+00, 1.48e+02, 7.20e+01, ..., 6.27e-01, 5.00e+01, 1.00e+00],\n",
       "       [1.00e+00, 8.50e+01, 6.60e+01, ..., 3.51e-01, 3.10e+01, 0.00e+00],\n",
       "       [8.00e+00, 1.83e+02, 6.40e+01, ..., 6.72e-01, 3.20e+01, 1.00e+00],\n",
       "       ...,\n",
       "       [2.00e+00, 8.10e+01, 7.20e+01, ..., 5.47e-01, 2.50e+01, 0.00e+00],\n",
       "       [7.00e+00, 1.95e+02, 7.00e+01, ..., 1.63e-01, 5.50e+01, 1.00e+00],\n",
       "       [6.00e+00, 1.54e+02, 7.40e+01, ..., 8.39e-01, 3.90e+01, 0.00e+00]])"
      ]
     },
     "execution_count": 212,
     "metadata": {},
     "output_type": "execute_result"
    }
   ],
   "source": [
    "f = np.array(pd.read_csv('diabetes_train.txt',header=None).values)\n",
    "f"
   ]
  },
  {
   "cell_type": "code",
   "execution_count": 267,
   "id": "threaded-apollo",
   "metadata": {},
   "outputs": [],
   "source": [
    "def loadData(filename):\n",
    "    \"\"\"\n",
    "    split data into feature and label\n",
    "    standardize feature val\n",
    "    \"\"\"\n",
    "    f=np.array(pd.read_csv(filename,header=None).values)\n",
    "    feature=f[:,:-1]\n",
    "    feature=scale(feature)\n",
    "    label=f[:,-1]\n",
    "    return np.array(feature),np.array(label)"
   ]
  },
  {
   "cell_type": "code",
   "execution_count": 268,
   "id": "proof-malaysia",
   "metadata": {},
   "outputs": [
    {
     "data": {
      "text/plain": [
       "array([[ 0.65618344,  0.82013306,  0.16718959, ...,  0.19778399,\n",
       "         0.40819719,  1.45499222],\n",
       "       [-0.84058535, -1.12374891, -0.14184847, ..., -0.65641636,\n",
       "        -0.39130339, -0.18060429],\n",
       "       [ 1.25489095,  1.90006748, -0.24486116, ..., -1.05911081,\n",
       "         0.53855054, -0.09452026],\n",
       "       ...,\n",
       "       [-0.54123159, -1.24716999,  0.16718959, ..., -0.22931619,\n",
       "         0.17645789, -0.69710845],\n",
       "       [ 0.9555372 ,  2.27033072,  0.06417691, ..., -0.83945929,\n",
       "        -0.93589074,  1.88541235],\n",
       "       [ 0.65618344,  1.00526467,  0.27020228, ..., -0.32693908,\n",
       "         1.02230632,  0.50806793]])"
      ]
     },
     "execution_count": 268,
     "metadata": {},
     "output_type": "execute_result"
    }
   ],
   "source": [
    "feature,label=loadData('diabetes_train.txt')\n",
    "feature"
   ]
  },
  {
   "cell_type": "code",
   "execution_count": 279,
   "id": "brutal-factory",
   "metadata": {},
   "outputs": [],
   "source": [
    "def sigmoid(z):\n",
    "    \"\"\"\n",
    "    sigmoid func\n",
    "    \"\"\"\n",
    "    return 1/(1+np.exp(z))\n",
    "\n",
    "def kernal(x,y):\n",
    "    return sum(x[i]*y[i] for i in range(len(x)))"
   ]
  },
  {
   "cell_type": "code",
   "execution_count": 280,
   "id": "working-charm",
   "metadata": {},
   "outputs": [],
   "source": [
    "def cost(feature, label,theta):\n",
    "    m=len(feature)\n",
    "    sumOfcost=0\n",
    "    for i in range(m):\n",
    "        if label[i]==1:\n",
    "            sumOfcost-=np.log(sigmoid(kernal(feature[i],theta)))\n",
    "        else:\n",
    "            sumOfcost-=np.log(1-sigmoid(kernal(feature[i],theta)))\n",
    "    sumOfcost/=m\n",
    "    return sumOfcost"
   ]
  },
  {
   "cell_type": "code",
   "execution_count": 281,
   "id": "deluxe-market",
   "metadata": {},
   "outputs": [],
   "source": [
    "def gradOfcost(feature,label,theta):\n",
    "    gradTheta=[]\n",
    "    m=len(feature)\n",
    "    for p in range(len(theta)):\n",
    "        gradTheta.append(sum(((sigmoid(np.dot(feature[i],theta))-label[i])*feature[i][p])\n",
    "                         for i in range(m))/(-m))\n",
    "    return gradTheta\n",
    "\n",
    "def gradDecent(alpha,theta,feature,label,maxIter):\n",
    "    m=len(feature)\n",
    "    for it in tqdm(range(maxIter)):\n",
    "        gradTheta=gradOfcost(feature,label,theta)\n",
    "        # 更新每个维度\n",
    "        for p in range(len(theta)):\n",
    "            theta[p]+=alpha*gradTheta[p]\n",
    "        # print current cost\n",
    "#         print('current cost is ',cost(feature,label,theta))\n",
    "#         print('current theta0 is',theta[0])\n",
    "        alpha*=0.8\n",
    "    return theta"
   ]
  },
  {
   "cell_type": "code",
   "execution_count": 282,
   "id": "insured-infection",
   "metadata": {},
   "outputs": [
    {
     "name": "stderr",
     "output_type": "stream",
     "text": [
      "100%|██████████| 100/100 [00:03<00:00, 27.66it/s]\n"
     ]
    },
    {
     "data": {
      "text/plain": [
       "array([[0.27440002],\n",
       "       [0.97875216],\n",
       "       [0.02785456],\n",
       "       [0.91669502],\n",
       "       [0.13358772],\n",
       "       [0.23719691],\n",
       "       [0.44972389],\n",
       "       [0.24477537]])"
      ]
     },
     "execution_count": 282,
     "metadata": {},
     "output_type": "execute_result"
    }
   ],
   "source": [
    "theta=np.random.rand(len(feature[0]),1)\n",
    "theta=gradDecent(0.01,theta,feature,label,100)\n",
    "theta"
   ]
  },
  {
   "cell_type": "code",
   "execution_count": 283,
   "id": "strong-resolution",
   "metadata": {},
   "outputs": [],
   "source": [
    "testFeature,testLabel=loadData('diabetes_test.txt') "
   ]
  },
  {
   "cell_type": "code",
   "execution_count": 284,
   "id": "overhead-collect",
   "metadata": {},
   "outputs": [],
   "source": [
    "def predict(testFeature,bestTheta,thold):\n",
    "    \"\"\"\n",
    "    single prediction\n",
    "    \"\"\"\n",
    "    res=[]\n",
    "    m=len(testFeature)\n",
    "    for sampleId in range(m):\n",
    "        prediction=sigmoid(np.dot(testFeature[sampleId],bestTheta))\n",
    "        if prediction > thold:\n",
    "            res.append(0)\n",
    "        else:\n",
    "            res.append(1)\n",
    "    return res"
   ]
  },
  {
   "cell_type": "code",
   "execution_count": 285,
   "id": "upper-catholic",
   "metadata": {},
   "outputs": [],
   "source": [
    "prediction=predict(testFeature,theta,0.5)"
   ]
  },
  {
   "cell_type": "code",
   "execution_count": 286,
   "id": "genuine-battery",
   "metadata": {},
   "outputs": [],
   "source": [
    "def accu(testLabel,prediction,thold):\n",
    "    record=[]\n",
    "    for sampleId in range(len(testLabel)):\n",
    "        if prediction[sampleId]==testLabel[sampleId]:\n",
    "            record.append(1)\n",
    "        else:\n",
    "            record.append(0)\n",
    "    return sum(record)/len(record)\n",
    "        "
   ]
  },
  {
   "cell_type": "code",
   "execution_count": 287,
   "id": "respiratory-stations",
   "metadata": {},
   "outputs": [
    {
     "data": {
      "text/plain": [
       "0.7052238805970149"
      ]
     },
     "execution_count": 287,
     "metadata": {},
     "output_type": "execute_result"
    }
   ],
   "source": [
    "acc=accu(testLabel,prediction,0.9)\n",
    "acc"
   ]
  },
  {
   "cell_type": "code",
   "execution_count": 288,
   "id": "based-guinea",
   "metadata": {},
   "outputs": [
    {
     "data": {
      "text/plain": [
       "array([0., 0., 0., 0., 0., 0., 1., 0., 0., 0., 0., 0., 0., 0., 0., 1., 1.,\n",
       "       1., 0., 0., 0., 0., 0., 1., 0., 0., 0., 0., 0., 0., 0., 1., 0., 0.,\n",
       "       0., 1., 0., 0., 0., 1., 0., 0., 0., 0., 0., 1., 1., 0., 1., 1., 0.,\n",
       "       0., 0., 0., 0., 0., 0., 0., 1., 0., 0., 1., 0., 0., 0., 0., 0., 0.,\n",
       "       1., 0., 0., 0., 0., 0., 0., 0., 0., 1., 0., 1., 1., 0., 0., 0., 0.,\n",
       "       0., 1., 0., 1., 0., 1., 0., 0., 0., 0., 1., 0., 0., 1., 0., 0., 0.,\n",
       "       0., 1., 1., 0., 1., 0., 1., 0., 0., 1., 1., 0., 1., 0., 0., 0., 1.,\n",
       "       0., 0., 0., 1., 0., 0., 0., 0., 0., 0., 0., 0., 0., 0., 0., 0., 0.,\n",
       "       0., 0., 1., 0., 0., 0., 0., 0., 0., 1., 0., 1., 0., 0., 0., 0., 0.,\n",
       "       0., 0., 1., 0., 1., 1., 0., 1., 1., 1., 1., 0., 0., 1., 0., 0., 1.,\n",
       "       1., 0., 0., 1., 0., 1., 1., 0., 0., 0., 0., 1., 0., 0., 0., 0., 0.,\n",
       "       0., 0., 1., 0., 1., 1., 1., 0., 0., 1., 0., 0., 1., 0., 0., 1., 1.,\n",
       "       0., 0., 0., 0., 1., 0., 0., 0., 1., 0., 0., 1., 1., 0., 0., 0., 0.,\n",
       "       0., 0., 0., 0., 0., 0., 0., 0., 0., 0., 0., 1., 0., 0., 0., 0., 0.,\n",
       "       0., 0., 1., 0., 0., 1., 1., 0., 1., 0., 1., 1., 1., 0., 0., 1., 1.,\n",
       "       1., 0., 0., 0., 1., 0., 1., 0., 0., 0., 0., 0., 0.])"
      ]
     },
     "execution_count": 288,
     "metadata": {},
     "output_type": "execute_result"
    }
   ],
   "source": [
    "classifier=LogisticRegression()\n",
    "classifier.fit(feature,label)\n",
    "pred=classifier.predict(testFeature)\n",
    "pred"
   ]
  },
  {
   "cell_type": "code",
   "execution_count": 274,
   "id": "hungarian-gospel",
   "metadata": {},
   "outputs": [
    {
     "data": {
      "text/plain": [
       "0.8134328358208955"
      ]
     },
     "execution_count": 274,
     "metadata": {},
     "output_type": "execute_result"
    }
   ],
   "source": [
    "acc1=accu(testLabel,pred,0.5)\n",
    "acc1"
   ]
  },
  {
   "cell_type": "code",
   "execution_count": null,
   "id": "correct-arctic",
   "metadata": {},
   "outputs": [],
   "source": []
  }
 ],
 "metadata": {
  "kernelspec": {
   "display_name": "Python 3",
   "language": "python",
   "name": "python3"
  },
  "language_info": {
   "codemirror_mode": {
    "name": "ipython",
    "version": 3
   },
   "file_extension": ".py",
   "mimetype": "text/x-python",
   "name": "python",
   "nbconvert_exporter": "python",
   "pygments_lexer": "ipython3",
   "version": "3.8.3"
  },
  "toc": {
   "base_numbering": 1,
   "nav_menu": {},
   "number_sections": true,
   "sideBar": true,
   "skip_h1_title": false,
   "title_cell": "Table of Contents",
   "title_sidebar": "Contents",
   "toc_cell": false,
   "toc_position": {},
   "toc_section_display": true,
   "toc_window_display": false
  },
  "varInspector": {
   "cols": {
    "lenName": 16,
    "lenType": 16,
    "lenVar": 40
   },
   "kernels_config": {
    "python": {
     "delete_cmd_postfix": "",
     "delete_cmd_prefix": "del ",
     "library": "var_list.py",
     "varRefreshCmd": "print(var_dic_list())"
    },
    "r": {
     "delete_cmd_postfix": ") ",
     "delete_cmd_prefix": "rm(",
     "library": "var_list.r",
     "varRefreshCmd": "cat(var_dic_list()) "
    }
   },
   "types_to_exclude": [
    "module",
    "function",
    "builtin_function_or_method",
    "instance",
    "_Feature"
   ],
   "window_display": false
  }
 },
 "nbformat": 4,
 "nbformat_minor": 5
}
