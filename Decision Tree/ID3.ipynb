{
 "cells": [
  {
   "cell_type": "code",
   "execution_count": 114,
   "metadata": {},
   "outputs": [],
   "source": [
    "import numpy as np\n",
    "import pandas as pd"
   ]
  },
  {
   "cell_type": "code",
   "execution_count": 118,
   "metadata": {},
   "outputs": [
    {
     "data": {
      "text/html": [
       "<div>\n",
       "<style scoped>\n",
       "    .dataframe tbody tr th:only-of-type {\n",
       "        vertical-align: middle;\n",
       "    }\n",
       "\n",
       "    .dataframe tbody tr th {\n",
       "        vertical-align: top;\n",
       "    }\n",
       "\n",
       "    .dataframe thead th {\n",
       "        text-align: right;\n",
       "    }\n",
       "</style>\n",
       "<table border=\"1\" class=\"dataframe\">\n",
       "  <thead>\n",
       "    <tr style=\"text-align: right;\">\n",
       "      <th></th>\n",
       "      <th>humility</th>\n",
       "      <th>outlook</th>\n",
       "      <th>temp</th>\n",
       "      <th>windy</th>\n",
       "      <th>play</th>\n",
       "    </tr>\n",
       "  </thead>\n",
       "  <tbody>\n",
       "    <tr>\n",
       "      <th>0</th>\n",
       "      <td>high</td>\n",
       "      <td>sunny</td>\n",
       "      <td>hot</td>\n",
       "      <td>False</td>\n",
       "      <td>no</td>\n",
       "    </tr>\n",
       "    <tr>\n",
       "      <th>1</th>\n",
       "      <td>high</td>\n",
       "      <td>sunny</td>\n",
       "      <td>hot</td>\n",
       "      <td>True</td>\n",
       "      <td>no</td>\n",
       "    </tr>\n",
       "    <tr>\n",
       "      <th>2</th>\n",
       "      <td>high</td>\n",
       "      <td>overcast</td>\n",
       "      <td>hot</td>\n",
       "      <td>False</td>\n",
       "      <td>yes</td>\n",
       "    </tr>\n",
       "    <tr>\n",
       "      <th>3</th>\n",
       "      <td>high</td>\n",
       "      <td>rainy</td>\n",
       "      <td>mild</td>\n",
       "      <td>False</td>\n",
       "      <td>yes</td>\n",
       "    </tr>\n",
       "    <tr>\n",
       "      <th>4</th>\n",
       "      <td>normal</td>\n",
       "      <td>rainy</td>\n",
       "      <td>cool</td>\n",
       "      <td>False</td>\n",
       "      <td>yes</td>\n",
       "    </tr>\n",
       "    <tr>\n",
       "      <th>5</th>\n",
       "      <td>normal</td>\n",
       "      <td>rainy</td>\n",
       "      <td>cool</td>\n",
       "      <td>True</td>\n",
       "      <td>no</td>\n",
       "    </tr>\n",
       "    <tr>\n",
       "      <th>6</th>\n",
       "      <td>normal</td>\n",
       "      <td>overcast</td>\n",
       "      <td>cool</td>\n",
       "      <td>True</td>\n",
       "      <td>yes</td>\n",
       "    </tr>\n",
       "    <tr>\n",
       "      <th>7</th>\n",
       "      <td>high</td>\n",
       "      <td>sunny</td>\n",
       "      <td>mild</td>\n",
       "      <td>False</td>\n",
       "      <td>no</td>\n",
       "    </tr>\n",
       "    <tr>\n",
       "      <th>8</th>\n",
       "      <td>normal</td>\n",
       "      <td>sunny</td>\n",
       "      <td>cool</td>\n",
       "      <td>False</td>\n",
       "      <td>yes</td>\n",
       "    </tr>\n",
       "    <tr>\n",
       "      <th>9</th>\n",
       "      <td>normal</td>\n",
       "      <td>rainy</td>\n",
       "      <td>mild</td>\n",
       "      <td>False</td>\n",
       "      <td>yes</td>\n",
       "    </tr>\n",
       "    <tr>\n",
       "      <th>10</th>\n",
       "      <td>normal</td>\n",
       "      <td>sunny</td>\n",
       "      <td>mild</td>\n",
       "      <td>True</td>\n",
       "      <td>yes</td>\n",
       "    </tr>\n",
       "    <tr>\n",
       "      <th>11</th>\n",
       "      <td>high</td>\n",
       "      <td>overcast</td>\n",
       "      <td>mild</td>\n",
       "      <td>True</td>\n",
       "      <td>yes</td>\n",
       "    </tr>\n",
       "    <tr>\n",
       "      <th>12</th>\n",
       "      <td>normal</td>\n",
       "      <td>overcast</td>\n",
       "      <td>hot</td>\n",
       "      <td>False</td>\n",
       "      <td>yes</td>\n",
       "    </tr>\n",
       "    <tr>\n",
       "      <th>13</th>\n",
       "      <td>high</td>\n",
       "      <td>rainy</td>\n",
       "      <td>mild</td>\n",
       "      <td>True</td>\n",
       "      <td>no</td>\n",
       "    </tr>\n",
       "  </tbody>\n",
       "</table>\n",
       "</div>"
      ],
      "text/plain": [
       "   humility   outlook  temp  windy play\n",
       "0      high     sunny   hot  False   no\n",
       "1      high     sunny   hot   True   no\n",
       "2      high  overcast   hot  False  yes\n",
       "3      high     rainy  mild  False  yes\n",
       "4    normal     rainy  cool  False  yes\n",
       "5    normal     rainy  cool   True   no\n",
       "6    normal  overcast  cool   True  yes\n",
       "7      high     sunny  mild  False   no\n",
       "8    normal     sunny  cool  False  yes\n",
       "9    normal     rainy  mild  False  yes\n",
       "10   normal     sunny  mild   True  yes\n",
       "11     high  overcast  mild   True  yes\n",
       "12   normal  overcast   hot  False  yes\n",
       "13     high     rainy  mild   True   no"
      ]
     },
     "execution_count": 118,
     "metadata": {},
     "output_type": "execute_result"
    }
   ],
   "source": [
    "df = pd.read_csv('example_data.csv')\n",
    "df"
   ]
  },
  {
   "cell_type": "code",
   "execution_count": 137,
   "metadata": {},
   "outputs": [
    {
     "name": "stdout",
     "output_type": "stream",
     "text": [
      "['no', 'yes']\n"
     ]
    },
    {
     "data": {
      "text/plain": [
       "array([['high', 'sunny', 'hot', False, 'no'],\n",
       "       ['high', 'sunny', 'hot', True, 'no'],\n",
       "       ['high', 'overcast', 'hot', False, 'yes'],\n",
       "       ['high', 'rainy', 'mild', False, 'yes'],\n",
       "       ['normal', 'rainy', 'cool', False, 'yes'],\n",
       "       ['normal', 'rainy', 'cool', True, 'no'],\n",
       "       ['normal', 'overcast', 'cool', True, 'yes'],\n",
       "       ['high', 'sunny', 'mild', False, 'no'],\n",
       "       ['normal', 'sunny', 'cool', False, 'yes'],\n",
       "       ['normal', 'rainy', 'mild', False, 'yes'],\n",
       "       ['normal', 'sunny', 'mild', True, 'yes'],\n",
       "       ['high', 'overcast', 'mild', True, 'yes'],\n",
       "       ['normal', 'overcast', 'hot', False, 'yes'],\n",
       "       ['high', 'rainy', 'mild', True, 'no']], dtype=object)"
      ]
     },
     "execution_count": 137,
     "metadata": {},
     "output_type": "execute_result"
    }
   ],
   "source": [
    "d=np.array(df.values)\n",
    "label=[]\n",
    "for sample in d:\n",
    "    if not sample[-1] in label:\n",
    "        label.append(sample[-1])\n",
    "print(label)\n",
    "d_train=d[:9]\n",
    "d_test=d[9:]\n",
    "d"
   ]
  },
  {
   "cell_type": "code",
   "execution_count": 141,
   "metadata": {},
   "outputs": [
    {
     "name": "stdout",
     "output_type": "stream",
     "text": [
      "{'no': [array(['high', 'sunny', 'hot', False, 'no'], dtype=object), array(['high', 'sunny', 'hot', True, 'no'], dtype=object), array(['normal', 'rainy', 'cool', True, 'no'], dtype=object), array(['high', 'sunny', 'mild', False, 'no'], dtype=object)], 'yes': [array(['high', 'overcast', 'hot', False, 'yes'], dtype=object), array(['high', 'rainy', 'mild', False, 'yes'], dtype=object), array(['normal', 'rainy', 'cool', False, 'yes'], dtype=object), array(['normal', 'overcast', 'cool', True, 'yes'], dtype=object), array(['normal', 'sunny', 'cool', False, 'yes'], dtype=object)]}\n",
      "{'yes': [array(['normal', 'rainy', 'mild', False, 'yes'], dtype=object), array(['normal', 'sunny', 'mild', True, 'yes'], dtype=object), array(['high', 'overcast', 'mild', True, 'yes'], dtype=object), array(['normal', 'overcast', 'hot', False, 'yes'], dtype=object)], 'no': [array(['high', 'rainy', 'mild', True, 'no'], dtype=object)]}\n"
     ]
    }
   ],
   "source": [
    "data = {}\n",
    "for i in d_train:\n",
    "    if not i[-1] in data:\n",
    "        data[i[-1]] = [i]\n",
    "    else:\n",
    "        data[i[-1]].append(i)\n",
    "\n",
    "data_test={}\n",
    "for i in d_test:\n",
    "    if not i[-1] in data_test:\n",
    "        data_test[i[-1]] = [i]\n",
    "    else:\n",
    "        data_test[i[-1]].append(i)\n",
    "print(data)\n",
    "print(data_test)"
   ]
  },
  {
   "cell_type": "markdown",
   "metadata": {},
   "source": [
    "计算信息熵"
   ]
  },
  {
   "cell_type": "code",
   "execution_count": 142,
   "metadata": {},
   "outputs": [],
   "source": [
    "def Ent(data):\n",
    "    \"\"\"\n",
    "    \n",
    "    :param data: dict\n",
    "    :return: 信息熵\n",
    "    \"\"\"\n",
    "    num=sum(len(data[i]) for i in data)\n",
    "    res=0\n",
    "    for i in data:\n",
    "        pi=len(data[i])/num\n",
    "        res+=pi*np.log(pi)\n",
    "    return -res"
   ]
  },
  {
   "cell_type": "markdown",
   "metadata": {},
   "source": [
    "分割前的信息熵"
   ]
  },
  {
   "cell_type": "code",
   "execution_count": 143,
   "metadata": {},
   "outputs": [
    {
     "data": {
      "text/plain": [
       "0.6869615765973234"
      ]
     },
     "execution_count": 143,
     "metadata": {},
     "output_type": "execute_result"
    }
   ],
   "source": [
    "E0=Ent(data)\n",
    "E0"
   ]
  },
  {
   "cell_type": "code",
   "execution_count": 144,
   "metadata": {},
   "outputs": [],
   "source": [
    "def split_dataframe(data, col):\n",
    "    \"\"\"\n",
    "    根据第col列属性分割后的数据集\n",
    "    :param data: dict\n",
    "    :param col:\n",
    "    :return: dict\n",
    "    \"\"\"\n",
    "    res={}\n",
    "    for types in data:\n",
    "        for sample in data[types]:\n",
    "            if not sample[col] in res:\n",
    "                res[sample[col]]={}\n",
    "                res[sample[col]][sample[-1]]=[sample]\n",
    "            else:\n",
    "                if not sample[-1] in res[sample[col]]:\n",
    "                    res[sample[col]][sample[-1]]=[sample]\n",
    "                else:\n",
    "                    res[sample[col]][sample[-1]].append(sample)\n",
    "    return res\n",
    "    "
   ]
  },
  {
   "cell_type": "code",
   "execution_count": 145,
   "metadata": {},
   "outputs": [
    {
     "data": {
      "text/plain": [
       "{'hot': {'no': [array(['high', 'sunny', 'hot', False, 'no'], dtype=object),\n",
       "   array(['high', 'sunny', 'hot', True, 'no'], dtype=object)],\n",
       "  'yes': [array(['high', 'overcast', 'hot', False, 'yes'], dtype=object)]},\n",
       " 'cool': {'no': [array(['normal', 'rainy', 'cool', True, 'no'], dtype=object)],\n",
       "  'yes': [array(['normal', 'rainy', 'cool', False, 'yes'], dtype=object),\n",
       "   array(['normal', 'overcast', 'cool', True, 'yes'], dtype=object),\n",
       "   array(['normal', 'sunny', 'cool', False, 'yes'], dtype=object)]},\n",
       " 'mild': {'no': [array(['high', 'sunny', 'mild', False, 'no'], dtype=object)],\n",
       "  'yes': [array(['high', 'rainy', 'mild', False, 'yes'], dtype=object)]}}"
      ]
     },
     "execution_count": 145,
     "metadata": {},
     "output_type": "execute_result"
    }
   ],
   "source": [
    "split_play=split_dataframe(data,2)\n",
    "split_play"
   ]
  },
  {
   "cell_type": "markdown",
   "metadata": {},
   "source": [
    "信息增益"
   ]
  },
  {
   "cell_type": "code",
   "execution_count": 146,
   "metadata": {},
   "outputs": [],
   "source": [
    "def Gain(Class,subClass):\n",
    "    \"\"\"\n",
    "    根据某属性分支后的信息增益\n",
    "    :param Class: dict of lables \n",
    "    :param subClass: dict with multi-2d arrays\n",
    "    :return:\n",
    "    \"\"\"\n",
    "    e=Ent(Class)\n",
    "    num=sum(len(Class[i]) for i in Class)\n",
    "    temp=0\n",
    "    for node in subClass:\n",
    "        cur_data=subClass[node]\n",
    "        e_sub=Ent(cur_data)\n",
    "        num_node=sum(len(cur_data[i]) for i in cur_data)\n",
    "        temp+=(num_node/num)*e_sub\n",
    "    return e-temp"
   ]
  },
  {
   "cell_type": "code",
   "execution_count": 147,
   "metadata": {},
   "outputs": [
    {
     "data": {
      "text/plain": [
       "0.07083074943292766"
      ]
     },
     "execution_count": 147,
     "metadata": {},
     "output_type": "execute_result"
    }
   ],
   "source": [
    "Gain_play=Gain(data,split_play)\n",
    "Gain_play"
   ]
  },
  {
   "cell_type": "code",
   "execution_count": 148,
   "metadata": {},
   "outputs": [],
   "source": [
    "def choose_best_col(data, label):\n",
    "    \"\"\"\n",
    "\n",
    "    :param data: dict with key: labels\n",
    "    :param label: label list\n",
    "    :return: the col of best feature and maxGain\n",
    "    \"\"\"\n",
    "    best_feature, maxGain = -1, -1\n",
    "    # 遍历每个feature col\n",
    "    for feature in range(len(data[label[0]][0]) - 1):\n",
    "        split_feature = split_dataframe(data, feature)\n",
    "        Gain_feature = Gain(data, split_feature)\n",
    "        if Gain_feature > maxGain:\n",
    "            best_feature = feature\n",
    "            maxGain = Gain_feature\n",
    "\n",
    "    return best_feature, maxGain"
   ]
  },
  {
   "cell_type": "code",
   "execution_count": 149,
   "metadata": {},
   "outputs": [
    {
     "name": "stdout",
     "output_type": "stream",
     "text": [
      "best feature is: 1\n"
     ]
    },
    {
     "data": {
      "text/plain": [
       "0.2248634562240266"
      ]
     },
     "execution_count": 149,
     "metadata": {},
     "output_type": "execute_result"
    }
   ],
   "source": [
    "best_feature,maxGain=choose_best_col(data,label)\n",
    "print('best feature is:',best_feature)\n",
    "maxGain"
   ]
  },
  {
   "cell_type": "markdown",
   "metadata": {},
   "source": [
    "构造树"
   ]
  },
  {
   "cell_type": "code",
   "execution_count": 150,
   "metadata": {},
   "outputs": [],
   "source": [
    "class ID3Tree:\n",
    "\n",
    "    def majorityVote(self,data):\n",
    "        maxLabel,maxCount=-1,-1\n",
    "        for i in data:\n",
    "            if len(data[i])>maxCount:\n",
    "                maxLabel=i\n",
    "                maxCount=len(data[i])\n",
    "        return maxLabel\n",
    "\n",
    "\n",
    "    def buildTree(self,data,label):\n",
    "        # 如果当前组只有一种label，返回当前label\n",
    "        if len(data)==1:\n",
    "            return self.majorityVote(data)\n",
    "        best_feature,maxGain=choose_best_col(data,label)\n",
    "        split_data=split_dataframe(data,best_feature)\n",
    "        Tree = {best_feature:{}}\n",
    "        for sub in split_data:\n",
    "            Tree[best_feature][sub]=self.buildTree(split_data[sub],label)\n",
    "        return Tree"
   ]
  },
  {
   "cell_type": "code",
   "execution_count": 155,
   "metadata": {
    "scrolled": false
   },
   "outputs": [
    {
     "name": "stdout",
     "output_type": "stream",
     "text": [
      "{1: {'sunny': {0: {'high': 'no', 'normal': 'yes'}}, 'rainy': {3: {True: 'no', False: 'yes'}}, 'overcast': 'yes'}}\n"
     ]
    }
   ],
   "source": [
    "os=ID3Tree()\n",
    "Tree=os.buildTree(data,label)\n",
    "print(Tree)"
   ]
  },
  {
   "cell_type": "markdown",
   "metadata": {},
   "source": [
    "预测测试集"
   ]
  },
  {
   "cell_type": "code",
   "execution_count": 168,
   "metadata": {},
   "outputs": [],
   "source": [
    "def predict(Tree,data_test,label):\n",
    "    res=[]\n",
    "    for sample in data_test:\n",
    "        temp=Tree\n",
    "        while True:\n",
    "            feature=list(temp.keys())\n",
    "            feature=feature[0]\n",
    "            temp=temp[feature]\n",
    "            pred=temp[sample[feature]]\n",
    "            if pred in label:\n",
    "                res.append(pred)\n",
    "                break\n",
    "            else:\n",
    "                temp=pred\n",
    "    return res\n",
    "        "
   ]
  },
  {
   "cell_type": "markdown",
   "metadata": {},
   "source": [
    "测试集很简单，accuracy=100%"
   ]
  },
  {
   "cell_type": "code",
   "execution_count": 170,
   "metadata": {},
   "outputs": [
    {
     "data": {
      "text/plain": [
       "['yes', 'yes', 'yes', 'yes', 'no']"
      ]
     },
     "execution_count": 170,
     "metadata": {},
     "output_type": "execute_result"
    }
   ],
   "source": [
    "predict(Tree,d_test,label)"
   ]
  },
  {
   "cell_type": "code",
   "execution_count": null,
   "metadata": {},
   "outputs": [],
   "source": []
  }
 ],
 "metadata": {
  "kernelspec": {
   "display_name": "Python 3",
   "language": "python",
   "name": "python3"
  },
  "language_info": {
   "codemirror_mode": {
    "name": "ipython",
    "version": 3
   },
   "file_extension": ".py",
   "mimetype": "text/x-python",
   "name": "python",
   "nbconvert_exporter": "python",
   "pygments_lexer": "ipython3",
   "version": "3.8.3"
  }
 },
 "nbformat": 4,
 "nbformat_minor": 4
}
