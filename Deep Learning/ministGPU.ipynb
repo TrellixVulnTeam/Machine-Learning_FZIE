{
 "cells": [
  {
   "cell_type": "markdown",
   "metadata": {
    "id": "xdW0riljRaNm"
   },
   "source": [
    "导入库，检查GPU可用性"
   ]
  },
  {
   "cell_type": "code",
   "execution_count": 2,
   "metadata": {
    "colab": {
     "base_uri": "https://localhost:8080/"
    },
    "id": "BMdoCP_gQVhU",
    "outputId": "9ba346e9-6ce5-4c54-fca6-cc1a1bbdd563"
   },
   "outputs": [
    {
     "data": {
      "text/plain": [
       "True"
      ]
     },
     "execution_count": 2,
     "metadata": {
      "tags": []
     },
     "output_type": "execute_result"
    }
   ],
   "source": [
    "import torch\n",
    "import torch.nn as nn\n",
    "from torch.autograd import Variable\n",
    "import torch.utils.data as Data\n",
    "import torchvision\n",
    "import matplotlib.pyplot as plt\n",
    "torch.cuda.is_available()"
   ]
  },
  {
   "cell_type": "markdown",
   "metadata": {
    "id": "TYVjhRMmRqA5"
   },
   "source": [
    "下载数据集"
   ]
  },
  {
   "cell_type": "code",
   "execution_count": null,
   "metadata": {
    "id": "I6Hd0z6rRi6E"
   },
   "outputs": [],
   "source": [
    "EPOCH = 1\n",
    "BATCH_SIZE = 50\n",
    "LR = 0.001\n",
    "DOWNLOAD_MNIST = True\n",
    "\n",
    "# 获取训练集dataset\n",
    "training_data = torchvision.datasets.MNIST(\n",
    "    root='./data/',  # dataset存储路径\n",
    "    train=True,  # True表示是train训练集，False表示test测试集\n",
    "    transform=torchvision.transforms.ToTensor(),  # 将原数据规范化到（0,1）区间\n",
    "    download=DOWNLOAD_MNIST,\n",
    ")"
   ]
  },
  {
   "cell_type": "markdown",
   "metadata": {
    "id": "vdOd5_VoSMKm"
   },
   "source": [
    "60000张图片，28*28"
   ]
  },
  {
   "cell_type": "code",
   "execution_count": 4,
   "metadata": {
    "colab": {
     "base_uri": "https://localhost:8080/"
    },
    "id": "b0fHXhcvR8-r",
    "outputId": "6dff07a3-5c45-4b50-c7a3-660093d27644"
   },
   "outputs": [
    {
     "name": "stdout",
     "output_type": "stream",
     "text": [
      "torch.Size([60000, 28, 28])\n",
      "torch.Size([60000])\n"
     ]
    }
   ],
   "source": [
    "print(training_data.data.size())\n",
    "print(training_data.targets.size())"
   ]
  },
  {
   "cell_type": "code",
   "execution_count": 7,
   "metadata": {
    "colab": {
     "base_uri": "https://localhost:8080/",
     "height": 281
    },
    "id": "xswrzNuqSPyE",
    "outputId": "8d39a0b5-4849-4b0f-df03-b6ad0153fb0c"
   },
   "outputs": [
    {
     "data": {
      "image/png": "[encoded data removed]",
      "text/plain": [
       "<Figure size 432x288 with 1 Axes>"
      ]
     },
     "metadata": {
      "needs_background": "light",
      "tags": []
     },
     "output_type": "display_data"
    }
   ],
   "source": [
    "plt.imshow(training_data.data[0])\n",
    "plt.title('simple')\n",
    "plt.show()"
   ]
  },
  {
   "cell_type": "code",
   "execution_count": 9,
   "metadata": {
    "colab": {
     "base_uri": "https://localhost:8080/"
    },
    "id": "GxU9EWuxSaoO",
    "outputId": "4ba27812-cda8-4529-ae19-08ee28bd5ec0"
   },
   "outputs": [
    {
     "name": "stderr",
     "output_type": "stream",
     "text": [
      "/usr/local/lib/python3.6/dist-packages/ipykernel_launcher.py:10: UserWarning: volatile was removed and now has no effect. Use `with torch.no_grad():` instead.\n",
      "  # Remove the CWD from sys.path while we load stuff.\n"
     ]
    }
   ],
   "source": [
    "# 通过torchvision.datasets获取的dataset格式可直接可置于DataLoader\n",
    "train_loader = Data.DataLoader(dataset=training_data, batch_size=BATCH_SIZE,\n",
    "                               shuffle=True)\n",
    "\n",
    "# 获取测试集dataset\n",
    "test_data = torchvision.datasets.MNIST(root='./data/', train=False)\n",
    "# 取前2000个测试集样本\n",
    "\n",
    "test_x = Variable(torch.unsqueeze(test_data.data, dim=1),\n",
    "                  volatile=True).type(torch.FloatTensor)[:2000].cuda()\n",
    "# (2000, 28, 28) to (2000, 1, 28, 28), in range(0,1)\n",
    "test_y = test_data.targets[:2000].cuda()\n"
   ]
  },
  {
   "cell_type": "code",
   "execution_count": 10,
   "metadata": {
    "id": "0CkLVFfsXQIO"
   },
   "outputs": [],
   "source": [
    "class CNN(nn.Module):\n",
    "    def __init__(self):\n",
    "        super(CNN, self).__init__()\n",
    "        self.conv1 = nn.Sequential(  # (1,28,28)\n",
    "            nn.Conv2d(in_channels=1, out_channels=16, kernel_size=5,\n",
    "                      stride=1, padding=2),  # (16,28,28)\n",
    "            # 想要con2d卷积出来的图片尺寸没有变化, padding=(kernel_size-1)/2\n",
    "            nn.ReLU(),\n",
    "            nn.MaxPool2d(kernel_size=2)  # (16,14,14)\n",
    "        )\n",
    "        self.conv2 = nn.Sequential(  # (16,14,14)\n",
    "            nn.Conv2d(16, 32, 5, 1, 2),  # (32,14,14)\n",
    "            nn.ReLU(),\n",
    "            nn.MaxPool2d(2)  # (32,7,7)\n",
    "        )\n",
    "        self.out = nn.Linear(32 * 7 * 7, 10)\n",
    "\n",
    "    def forward(self, x):\n",
    "        x = self.conv1(x)\n",
    "        x = self.conv2(x)\n",
    "        x = x.view(x.size(0), -1)  # 将（batch，32,7,7）展平为（batch，32*7*7）\n",
    "        output = self.out(x)\n",
    "        return output"
   ]
  },
  {
   "cell_type": "code",
   "execution_count": 11,
   "metadata": {
    "colab": {
     "base_uri": "https://localhost:8080/",
     "height": 1000
    },
    "id": "goR1-MlmXTLT",
    "outputId": "7dc7f660-7285-4ebf-b3e7-c06737c322c0",
    "scrolled": false
   },
   "outputs": [
    {
     "name": "stdout",
     "output_type": "stream",
     "text": [
      "Epoch: 0 |Step: 0 |train loss:2.3147 |test accuracy:0.1975\n",
      "Epoch: 0 |Step: 100 |train loss:0.2703 |test accuracy:0.8965\n",
      "Epoch: 0 |Step: 200 |train loss:0.1937 |test accuracy:0.9365\n",
      "Epoch: 0 |Step: 300 |train loss:0.1504 |test accuracy:0.9500\n",
      "Epoch: 0 |Step: 400 |train loss:0.0810 |test accuracy:0.9570\n",
      "Epoch: 0 |Step: 500 |train loss:0.0758 |test accuracy:0.9605\n",
      "Epoch: 0 |Step: 600 |train loss:0.0312 |test accuracy:0.9675\n",
      "Epoch: 0 |Step: 700 |train loss:0.0428 |test accuracy:0.9690\n",
      "Epoch: 0 |Step: 800 |train loss:0.0255 |test accuracy:0.9730\n",
      "Epoch: 0 |Step: 900 |train loss:0.2094 |test accuracy:0.9650\n",
      "Epoch: 0 |Step: 1000 |train loss:0.0624 |test accuracy:0.9760\n",
      "Epoch: 0 |Step: 1100 |train loss:0.0237 |test accuracy:0.9750\n",
      "tensor([7, 2, 1, 0, 4, 1, 4, 9, 5, 9], device='cuda:0') prediction number\n",
      "tensor([7, 2, 1, 0, 4, 1, 4, 9, 5, 9], device='cuda:0') real number\n"
     ]
    },
    {
     "data": {
      "image/png": "[encoded data removed]",
      "text/plain": [
       "<Figure size 432x288 with 1 Axes>"
      ]
     },
     "metadata": {
      "needs_background": "light",
      "tags": []
     },
     "output_type": "display_data"
    },
    {
     "data": {
      "image/png": "[encoded data removed]",
      "text/plain": [
       "<Figure size 432x288 with 1 Axes>"
      ]
     },
     "metadata": {
      "needs_background": "light",
      "tags": []
     },
     "output_type": "display_data"
    },
    {
     "data": {
      "image/png": "[encoded data removed]",
      "text/plain": [
       "<Figure size 432x288 with 1 Axes>"
      ]
     },
     "metadata": {
      "needs_background": "light",
      "tags": []
     },
     "output_type": "display_data"
    },
    {
     "data": {
      "image/png": "[encoded data removed]",
      "text/plain": [
       "<Figure size 432x288 with 1 Axes>"
      ]
     },
     "metadata": {
      "needs_background": "light",
      "tags": []
     },
     "output_type": "display_data"
    },
    {
     "data": {
      "image/png": "[encoded data removed]",
      "text/plain": [
       "<Figure size 432x288 with 1 Axes>"
      ]
     },
     "metadata": {
      "needs_background": "light",
      "tags": []
     },
     "output_type": "display_data"
    },
    {
     "data": {
      "image/png": "[encoded data removed]",
      "text/plain": [
       "<Figure size 432x288 with 1 Axes>"
      ]
     },
     "metadata": {
      "needs_background": "light",
      "tags": []
     },
     "output_type": "display_data"
    },
    {
     "data": {
      "image/png": "[encoded data removed]",
      "text/plain": [
       "<Figure size 432x288 with 1 Axes>"
      ]
     },
     "metadata": {
      "needs_background": "light",
      "tags": []
     },
     "output_type": "display_data"
    },
    {
     "data": {
      "image/png": "[encoded data removed]",
      "text/plain": [
       "<Figure size 432x288 with 1 Axes>"
      ]
     },
     "metadata": {
      "needs_background": "light",
      "tags": []
     },
     "output_type": "display_data"
    },
    {
     "data": {
      "image/png": "[encoded data removed]",
      "text/plain": [
       "<Figure size 432x288 with 1 Axes>"
      ]
     },
     "metadata": {
      "needs_background": "light",
      "tags": []
     },
     "output_type": "display_data"
    },
    {
     "data": {
      "image/png": "[encoded data removed]",
      "text/plain": [
       "<Figure size 432x288 with 1 Axes>"
      ]
     },
     "metadata": {
      "needs_background": "light",
      "tags": []
     },
     "output_type": "display_data"
    }
   ],
   "source": [
    "cnn = CNN()\n",
    "cnn.cuda()\n",
    "\n",
    "optimizer = torch.optim.Adam(cnn.parameters(), lr=LR)\n",
    "loss_function = nn.CrossEntropyLoss()\n",
    "\n",
    "for epoch in range(EPOCH):\n",
    "    for step, (x, y) in enumerate(train_loader):\n",
    "        b_x = Variable(x).cuda()\n",
    "        b_y = Variable(y).cuda()\n",
    "\n",
    "        output = cnn(b_x)\n",
    "        loss = loss_function(output, b_y)\n",
    "        optimizer.zero_grad()\n",
    "        loss.backward()\n",
    "        optimizer.step()\n",
    "\n",
    "        if step % 100 == 0:\n",
    "            test_output = cnn(test_x)\n",
    "            pred_y = torch.max(test_output, 1)[1].cuda().data.squeeze()\n",
    "            s1=sum(pred_y == test_y)\n",
    "            s2=test_y.size(0)\n",
    "            accuracy = s1/(s2*1.0)\n",
    "            print('Epoch:', epoch, '|Step:', step,\n",
    "                  '|train loss:%.4f' % loss.item(), '|test accuracy:%.4f' % accuracy)\n",
    "\n",
    "test_output = cnn(test_x[:10])\n",
    "pred_y = torch.max(test_output, 1)[1].cuda().data.squeeze()\n",
    "print(pred_y, 'prediction number')\n",
    "print(test_y[:10], 'real number')\n",
    "\n",
    "for n in range(10):\n",
    "    plt.imshow(test_data.data[n].numpy(), cmap='gray')\n",
    "    plt.title('data[%i' % n+']:   test:%i' % test_data.targets[n]+'   pred:%i' % pred_y[n])\n",
    "    plt.show()"
   ]
  }
 ],
 "metadata": {
  "accelerator": "GPU",
  "colab": {
   "collapsed_sections": [],
   "name": "ministGPU.ipynb",
   "provenance": []
  },
  "kernelspec": {
   "display_name": "Python 3",
   "language": "python",
   "name": "python3"
  },
  "language_info": {
   "codemirror_mode": {
    "name": "ipython",
    "version": 3
   },
   "file_extension": ".py",
   "mimetype": "text/x-python",
   "name": "python",
   "nbconvert_exporter": "python",
   "pygments_lexer": "ipython3",
   "version": "3.8.3"
  }
 },
 "nbformat": 4,
 "nbformat_minor": 1
}
